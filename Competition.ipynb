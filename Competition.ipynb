{
 "cells": [
  {
   "cell_type": "markdown",
   "metadata": {},
   "source": [
    "## Data Cleanup and Exploration"
   ]
  },
  {
   "cell_type": "code",
   "execution_count": 88,
   "metadata": {
    "collapsed": true
   },
   "outputs": [],
   "source": [
    "%matplotlib inline\n",
    "\n",
    "import numpy as np\n",
    "import pandas as pd\n",
    "import matplotlib.pyplot as plt\n",
    "import seaborn as sns"
   ]
  },
  {
   "cell_type": "code",
   "execution_count": 89,
   "metadata": {
    "collapsed": true
   },
   "outputs": [],
   "source": [
    "data = pd.read_csv('Train.csv', encoding='utf8', delimiter=',', delim_whitespace=False)\n",
    "data = data.rename(columns=lambda x: x.strip())               # strip the spaces in the headers"
   ]
  },
  {
   "cell_type": "code",
   "execution_count": 90,
   "metadata": {},
   "outputs": [
    {
     "data": {
      "text/html": [
       "<div>\n",
       "<style>\n",
       "    .dataframe thead tr:only-child th {\n",
       "        text-align: right;\n",
       "    }\n",
       "\n",
       "    .dataframe thead th {\n",
       "        text-align: left;\n",
       "    }\n",
       "\n",
       "    .dataframe tbody tr th {\n",
       "        vertical-align: top;\n",
       "    }\n",
       "</style>\n",
       "<table border=\"1\" class=\"dataframe\">\n",
       "  <thead>\n",
       "    <tr style=\"text-align: right;\">\n",
       "      <th></th>\n",
       "      <th>S/N</th>\n",
       "      <th>Gender</th>\n",
       "      <th>Age</th>\n",
       "      <th>Location</th>\n",
       "      <th>famsize</th>\n",
       "      <th>Pstatus</th>\n",
       "      <th>Medu</th>\n",
       "      <th>Fedu</th>\n",
       "      <th>traveltime</th>\n",
       "      <th>studytime</th>\n",
       "      <th>...</th>\n",
       "      <th>paid</th>\n",
       "      <th>activities</th>\n",
       "      <th>nursery</th>\n",
       "      <th>higher</th>\n",
       "      <th>internet</th>\n",
       "      <th>famrel</th>\n",
       "      <th>freetime</th>\n",
       "      <th>health</th>\n",
       "      <th>absences</th>\n",
       "      <th>Scores</th>\n",
       "    </tr>\n",
       "  </thead>\n",
       "  <tbody>\n",
       "    <tr>\n",
       "      <th>0</th>\n",
       "      <td>AB1</td>\n",
       "      <td>F</td>\n",
       "      <td>13</td>\n",
       "      <td>U</td>\n",
       "      <td>GT3</td>\n",
       "      <td>A</td>\n",
       "      <td>4</td>\n",
       "      <td>4</td>\n",
       "      <td>2</td>\n",
       "      <td>2</td>\n",
       "      <td>...</td>\n",
       "      <td>no</td>\n",
       "      <td>no</td>\n",
       "      <td>yes</td>\n",
       "      <td>yes</td>\n",
       "      <td>no</td>\n",
       "      <td>4</td>\n",
       "      <td>3</td>\n",
       "      <td>3</td>\n",
       "      <td>6</td>\n",
       "      <td>17</td>\n",
       "    </tr>\n",
       "    <tr>\n",
       "      <th>1</th>\n",
       "      <td>AB2</td>\n",
       "      <td>F</td>\n",
       "      <td>12</td>\n",
       "      <td>U</td>\n",
       "      <td>GT3</td>\n",
       "      <td>T</td>\n",
       "      <td>1</td>\n",
       "      <td>1</td>\n",
       "      <td>1</td>\n",
       "      <td>2</td>\n",
       "      <td>...</td>\n",
       "      <td>no</td>\n",
       "      <td>no</td>\n",
       "      <td>no</td>\n",
       "      <td>yes</td>\n",
       "      <td>yes</td>\n",
       "      <td>5</td>\n",
       "      <td>3</td>\n",
       "      <td>3</td>\n",
       "      <td>4</td>\n",
       "      <td>16</td>\n",
       "    </tr>\n",
       "    <tr>\n",
       "      <th>2</th>\n",
       "      <td>AB3</td>\n",
       "      <td>F</td>\n",
       "      <td>10</td>\n",
       "      <td>U</td>\n",
       "      <td>LE3</td>\n",
       "      <td>T</td>\n",
       "      <td>1</td>\n",
       "      <td>1</td>\n",
       "      <td>1</td>\n",
       "      <td>2</td>\n",
       "      <td>...</td>\n",
       "      <td>yes</td>\n",
       "      <td>no</td>\n",
       "      <td>yes</td>\n",
       "      <td>yes</td>\n",
       "      <td>yes</td>\n",
       "      <td>4</td>\n",
       "      <td>3</td>\n",
       "      <td>3</td>\n",
       "      <td>10</td>\n",
       "      <td>25</td>\n",
       "    </tr>\n",
       "    <tr>\n",
       "      <th>3</th>\n",
       "      <td>AB4</td>\n",
       "      <td>F</td>\n",
       "      <td>10</td>\n",
       "      <td>U</td>\n",
       "      <td>GT3</td>\n",
       "      <td>T</td>\n",
       "      <td>4</td>\n",
       "      <td>2</td>\n",
       "      <td>1</td>\n",
       "      <td>3</td>\n",
       "      <td>...</td>\n",
       "      <td>yes</td>\n",
       "      <td>yes</td>\n",
       "      <td>yes</td>\n",
       "      <td>yes</td>\n",
       "      <td>yes</td>\n",
       "      <td>3</td>\n",
       "      <td>2</td>\n",
       "      <td>5</td>\n",
       "      <td>2</td>\n",
       "      <td>44</td>\n",
       "    </tr>\n",
       "    <tr>\n",
       "      <th>4</th>\n",
       "      <td>AB5</td>\n",
       "      <td>F</td>\n",
       "      <td>11</td>\n",
       "      <td>U</td>\n",
       "      <td>GT3</td>\n",
       "      <td>T</td>\n",
       "      <td>3</td>\n",
       "      <td>3</td>\n",
       "      <td>1</td>\n",
       "      <td>2</td>\n",
       "      <td>...</td>\n",
       "      <td>yes</td>\n",
       "      <td>no</td>\n",
       "      <td>yes</td>\n",
       "      <td>yes</td>\n",
       "      <td>no</td>\n",
       "      <td>4</td>\n",
       "      <td>3</td>\n",
       "      <td>5</td>\n",
       "      <td>4</td>\n",
       "      <td>26</td>\n",
       "    </tr>\n",
       "  </tbody>\n",
       "</table>\n",
       "<p>5 rows × 23 columns</p>\n",
       "</div>"
      ],
      "text/plain": [
       "   S/N Gender  Age Location famsize Pstatus  Medu  Fedu  traveltime  \\\n",
       "0  AB1      F   13        U     GT3       A     4     4           2   \n",
       "1  AB2      F   12        U     GT3       T     1     1           1   \n",
       "2  AB3      F   10        U     LE3       T     1     1           1   \n",
       "3  AB4      F   10        U     GT3       T     4     2           1   \n",
       "4  AB5      F   11        U     GT3       T     3     3           1   \n",
       "\n",
       "   studytime   ...    paid activities nursery higher internet famrel freetime  \\\n",
       "0          2   ...      no         no     yes    yes       no      4        3   \n",
       "1          2   ...      no         no      no    yes      yes      5        3   \n",
       "2          2   ...     yes         no     yes    yes      yes      4        3   \n",
       "3          3   ...     yes        yes     yes    yes      yes      3        2   \n",
       "4          2   ...     yes         no     yes    yes       no      4        3   \n",
       "\n",
       "  health  absences  Scores  \n",
       "0      3         6      17  \n",
       "1      3         4      16  \n",
       "2      3        10      25  \n",
       "3      5         2      44  \n",
       "4      5         4      26  \n",
       "\n",
       "[5 rows x 23 columns]"
      ]
     },
     "execution_count": 90,
     "metadata": {},
     "output_type": "execute_result"
    }
   ],
   "source": [
    "data.head()"
   ]
  },
  {
   "cell_type": "markdown",
   "metadata": {},
   "source": [
    "Now we need to transform the data to numerical variables from categorical variables"
   ]
  },
  {
   "cell_type": "code",
   "execution_count": 91,
   "metadata": {
    "collapsed": true
   },
   "outputs": [],
   "source": [
    "data.loc[data['Gender'] == 'F', 'Gender'] = 0         # these values are stored as ints\n",
    "data.loc[data['Gender'] == 'M', 'Gender'] = 1\n",
    "\n",
    "data.loc[data['Location'] == 'U', 'Location'] = 0\n",
    "data.loc[data['Location'] == 'R', 'Location'] = 1\n",
    "\n",
    "data.loc[data['famsize'] == 'LE3', 'famsize'] = 0\n",
    "data.loc[data['famsize'] == 'GT3', 'famsize'] = 1\n",
    "\n",
    "data.loc[data['Pstatus'] == 'A', 'Pstatus'] = 0\n",
    "data.loc[data['Pstatus'] == 'T', 'Pstatus'] = 1\n",
    "\n",
    "data.loc[data['Pstatus'] == 'A', 'Pstatus'] = 0\n",
    "\n",
    "data.loc[data['schoolsup'] == 'no', 'schoolsup'] = 0\n",
    "data.loc[data['schoolsup'] == 'yes', 'schoolsup'] = 1\n",
    "\n",
    "data.loc[data['famsup'] == 'no', 'famsup'] = 0\n",
    "data.loc[data['famsup'] == 'yes', 'famsup'] = 1\n",
    "\n",
    "data.loc[data['paid'] == 'no', 'paid'] = 0\n",
    "data.loc[data['paid'] == 'yes', 'paid'] = 1\n",
    "\n",
    "data.loc[data['activities'] == 'no', 'activities'] = 0\n",
    "data.loc[data['activities'] == 'yes', 'activities'] = 1\n",
    "\n",
    "data.loc[data['nursery'] == 'no', 'nursery'] = 0\n",
    "data.loc[data['nursery'] == 'yes', 'nursery'] = 1\n",
    "\n",
    "data.loc[data['higher'] == 'no', 'higher'] = 0\n",
    "data.loc[data['higher'] == 'yes', 'higher'] = 1\n",
    "\n",
    "data.loc[data['internet'] == 'no', 'internet'] = 0\n",
    "data.loc[data['internet'] == 'yes', 'internet'] = 1\n",
    "\n",
    "data = data.drop(['S/N'], axis=1)"
   ]
  },
  {
   "cell_type": "markdown",
   "metadata": {},
   "source": [
    "## Model Evaluation"
   ]
  },
  {
   "cell_type": "code",
   "execution_count": 111,
   "metadata": {
    "collapsed": true
   },
   "outputs": [],
   "source": [
    "from sklearn.metrics import mean_squared_error, r2_score\n",
    "\n",
    "train_data, cv_data = train_test_split(data, test_size=0.3)\n",
    "\n",
    "train_y = train_data['Scores']\n",
    "cv_y = cv_data['Scores']\n",
    "\n",
    "train_X = train_data.drop(['Scores'], axis=1)\n",
    "cv_X = cv_data.drop(['Scores'], axis=1)"
   ]
  },
  {
   "cell_type": "code",
   "execution_count": 155,
   "metadata": {},
   "outputs": [],
   "source": [
    "alphas = [0, 0.1, 0.3, 1, 3, 10, 30, 100, 150]\n",
    "J_cv = []\n",
    "J_train = []\n",
    "\n",
    "for alp in alphas:\n",
    "\n",
    "    reg = linear_model.Ridge(alpha = alp)\n",
    "    reg.fit(train_X, train_y)\n",
    "\n",
    "    cv_preds = reg.predict(cv_X)\n",
    "    train_preds = reg.predict(train_X)\n",
    "\n",
    "    m_train = len(train_y)\n",
    "    m_cv = len(cv_y)\n",
    "\n",
    "    J_cv.append(mean_squared_error(cv_preds, cv_y.values))\n",
    "    J_train.append(mean_squared_error(train_preds, train_y.values))"
   ]
  },
  {
   "cell_type": "code",
   "execution_count": 157,
   "metadata": {},
   "outputs": [
    {
     "name": "stdout",
     "output_type": "stream",
     "text": [
      "93.6679435734\n"
     ]
    },
    {
     "data": {
      "image/png": "[encoded data removed]",
      "text/plain": [
       "<matplotlib.figure.Figure at 0x202ba671dd8>"
      ]
     },
     "metadata": {},
     "output_type": "display_data"
    }
   ],
   "source": [
    "plt.plot(alphas, J_train, label='J_train')\n",
    "plt.plot(alphas, J_cv, label='J_cv')\n",
    "plt.xlabel('alpha')\n",
    "plt.ylabel('J')\n",
    "plt.legend()\n",
    "\n",
    "print(J_cv[-2])"
   ]
  },
  {
   "cell_type": "code",
   "execution_count": null,
   "metadata": {
    "collapsed": true
   },
   "outputs": [],
   "source": []
  }
 ],
 "metadata": {
  "kernelspec": {
   "display_name": "Python [default]",
   "language": "python",
   "name": "python3"
  },
  "language_info": {
   "codemirror_mode": {
    "name": "ipython",
    "version": 3
   },
   "file_extension": ".py",
   "mimetype": "text/x-python",
   "name": "python",
   "nbconvert_exporter": "python",
   "pygments_lexer": "ipython3",
   "version": "3.6.2"
  }
 },
 "nbformat": 4,
 "nbformat_minor": 2
}
